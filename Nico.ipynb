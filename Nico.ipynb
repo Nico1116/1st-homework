{
 "cells": [
  {
   "cell_type": "code",
   "execution_count": 3,
   "id": "6a0ff1e8",
   "metadata": {},
   "outputs": [
    {
     "name": "stdout",
     "output_type": "stream",
     "text": [
      "24\n"
     ]
    }
   ],
   "source": [
    "This_is_my_age=24\n",
    "print(int(This_is_my_age))"
   ]
  },
  {
   "cell_type": "code",
   "execution_count": 5,
   "id": "32171620",
   "metadata": {},
   "outputs": [
    {
     "name": "stdout",
     "output_type": "stream",
     "text": [
      "1.69\n"
     ]
    }
   ],
   "source": [
    "This_is_my_height=1.69\n",
    "print(float(This_is_my_height))"
   ]
  },
  {
   "cell_type": "code",
   "execution_count": 10,
   "id": "fbccbd1a",
   "metadata": {},
   "outputs": [
    {
     "name": "stdout",
     "output_type": "stream",
     "text": [
      "<class 'complex'>\n"
     ]
    }
   ],
   "source": [
    "Complex_a=456+0j\n",
    "print(type(Complex_a))"
   ]
  },
  {
   "cell_type": "code",
   "execution_count": 21,
   "id": "679e4e60",
   "metadata": {},
   "outputs": [
    {
     "name": "stdout",
     "output_type": "stream",
     "text": [
      "input the base value:20\n",
      "input the height value:10\n",
      "100\n"
     ]
    }
   ],
   "source": [
    "base=int(input(\"input the base value:\"))\n",
    "height=int(input(\"input the height value:\"))\n",
    "Area=0.5*base*height\n",
    "print(int(Area))"
   ]
  },
  {
   "cell_type": "code",
   "execution_count": 22,
   "id": "d1867e42",
   "metadata": {},
   "outputs": [
    {
     "name": "stdout",
     "output_type": "stream",
     "text": [
      "input the A side of triangle5\n",
      "input the B side of triangle4\n",
      "input the C side of triangle3\n",
      "12\n"
     ]
    }
   ],
   "source": [
    "\n",
    "A=int(input(\"input the A side of triangle\"))\n",
    "B=int(input(\"input the B side of triangle\"))\n",
    "C=int(input(\"input the C side of triangle\"))\n",
    "\n",
    "Perimeter=A+B+C\n",
    "print(int(Perimeter))"
   ]
  },
  {
   "cell_type": "code",
   "execution_count": 23,
   "id": "23b30f51",
   "metadata": {},
   "outputs": [
    {
     "name": "stdout",
     "output_type": "stream",
     "text": [
      "input the Length of A side of rectangle4\n",
      "input the Length of B side of rectangle5\n",
      "18\n",
      "20\n"
     ]
    }
   ],
   "source": [
    "A=int(input(\"input the Length of A side of rectangle\"))\n",
    "B=int(input(\"input the Length of B side of rectangle\"))\n",
    "perimeter=2*(A+B)\n",
    "area=A*B\n",
    "print(int(perimeter))\n",
    "print(int(area))"
   ]
  },
  {
   "cell_type": "code",
   "execution_count": 24,
   "id": "ebfc6525",
   "metadata": {},
   "outputs": [
    {
     "name": "stdout",
     "output_type": "stream",
     "text": [
      "Radius of circle6\n",
      "113\n",
      "37\n"
     ]
    }
   ],
   "source": [
    "r=int(input(\"Radius of circle\"))\n",
    "area=3.14*r*r\n",
    "Circumference_of_a_circle=2*3.14*r\n",
    "print(int(area))\n",
    "print(int(Circumference_of_a_circle))"
   ]
  },
  {
   "cell_type": "code",
   "execution_count": 14,
   "id": "727838f9",
   "metadata": {},
   "outputs": [
    {
     "name": "stdout",
     "output_type": "stream",
     "text": [
      "2\n",
      "1\n",
      "-2\n"
     ]
    }
   ],
   "source": [
    "#Ax+By+C=0\n",
    "#2x-2-y=0\n",
    "A = 2\n",
    "B =-1\n",
    "C =-2\n",
    "slope = -1*A/B\n",
    "x_intercept=-1*C/A\n",
    "y_intercept=-1*C/B\n",
    "print(int(slope))\n",
    "print(int(x_intercept))\n",
    "print(int(y_intercept))"
   ]
  },
  {
   "cell_type": "code",
   "execution_count": 11,
   "id": "f0722a4a",
   "metadata": {},
   "outputs": [
    {
     "name": "stdout",
     "output_type": "stream",
     "text": [
      "2\n"
     ]
    }
   ],
   "source": [
    "p1 = [2, 2]\n",
    "p2 = [6, 10]\n",
    "slope = abs((p1[1] - p2[1]) / (p1[0] - p2[0] + 1e-5))\n",
    "print(int(slope))"
   ]
  },
  {
   "cell_type": "code",
   "execution_count": 17,
   "id": "e9bd75aa",
   "metadata": {},
   "outputs": [
    {
     "name": "stdout",
     "output_type": "stream",
     "text": [
      "8\n"
     ]
    }
   ],
   "source": [
    "import numpy as np\n",
    "import math\n",
    "p1=np.array([2,2])\n",
    "p2=np.array([6,10])\n",
    "p3=p2-p1\n",
    "p4=math.hypot(p3[0],p3[1])\n",
    "print(int(p4))"
   ]
  },
  {
   "cell_type": "code",
   "execution_count": 18,
   "id": "d7ed1185",
   "metadata": {},
   "outputs": [
    {
     "name": "stdout",
     "output_type": "stream",
     "text": [
      "[-3]\n"
     ]
    }
   ],
   "source": [
    "from sympy import *\n",
    "x = symbols('x')\n",
    "print(solve(6*x+x*x+9,x))"
   ]
  },
  {
   "cell_type": "code",
   "execution_count": 19,
   "id": "4b87c274",
   "metadata": {},
   "outputs": [
    {
     "data": {
      "text/plain": [
       "6"
      ]
     },
     "execution_count": 19,
     "metadata": {},
     "output_type": "execute_result"
    }
   ],
   "source": [
    "len(str(\"python\"))"
   ]
  },
  {
   "cell_type": "code",
   "execution_count": 20,
   "id": "e8376994",
   "metadata": {},
   "outputs": [
    {
     "data": {
      "text/plain": [
       "11"
      ]
     },
     "execution_count": 20,
     "metadata": {},
     "output_type": "execute_result"
    }
   ],
   "source": [
    "len(str(\"dataScience\"))"
   ]
  },
  {
   "cell_type": "code",
   "execution_count": 21,
   "id": "f3467d67",
   "metadata": {},
   "outputs": [
    {
     "data": {
      "text/plain": [
       "False"
      ]
     },
     "execution_count": 21,
     "metadata": {},
     "output_type": "execute_result"
    }
   ],
   "source": [
    "len(str(\"python\"))>len(str(\"dataScience\"))"
   ]
  },
  {
   "cell_type": "code",
   "execution_count": 22,
   "id": "5d29390f",
   "metadata": {},
   "outputs": [
    {
     "name": "stdout",
     "output_type": "stream",
     "text": [
      "flase\n"
     ]
    }
   ],
   "source": [
    "Q= \"I hope this course is not full of jargon.\"\n",
    "if \"jargon'\"in Q:\n",
    "    print(\"true\")\n",
    "else:\n",
    "    print(\"flase\")"
   ]
  },
  {
   "cell_type": "code",
   "execution_count": 26,
   "id": "622d7bf4",
   "metadata": {},
   "outputs": [
    {
     "name": "stdout",
     "output_type": "stream",
     "text": [
      "6.0\n"
     ]
    }
   ],
   "source": [
    "print(str(float(len(str(\"python\")))))"
   ]
  },
  {
   "cell_type": "code",
   "execution_count": 28,
   "id": "7c693d1d",
   "metadata": {},
   "outputs": [
    {
     "name": "stdout",
     "output_type": "stream",
     "text": [
      "?:888\n",
      "偶\n"
     ]
    }
   ],
   "source": [
    "num =int( input('?:'))\n",
    "if num % 2 == 0:\n",
    "     print(\"偶\")\n",
    "else:\n",
    "     print(\"奇\")"
   ]
  },
  {
   "cell_type": "code",
   "execution_count": 30,
   "id": "72fadf37",
   "metadata": {},
   "outputs": [
    {
     "data": {
      "text/plain": [
       "False"
      ]
     },
     "execution_count": 30,
     "metadata": {},
     "output_type": "execute_result"
    }
   ],
   "source": [
    "7/3==2.7"
   ]
  },
  {
   "cell_type": "code",
   "execution_count": 31,
   "id": "763478c3",
   "metadata": {},
   "outputs": [
    {
     "data": {
      "text/plain": [
       "False"
      ]
     },
     "execution_count": 31,
     "metadata": {},
     "output_type": "execute_result"
    }
   ],
   "source": [
    "type(\"10\") == type(10)"
   ]
  },
  {
   "cell_type": "code",
   "execution_count": null,
   "id": "a1d0ac35",
   "metadata": {},
   "outputs": [],
   "source": []
  },
  {
   "cell_type": "code",
   "execution_count": null,
   "id": "0a2ae3df",
   "metadata": {},
   "outputs": [],
   "source": []
  },
  {
   "cell_type": "code",
   "execution_count": null,
   "id": "ca05dd78",
   "metadata": {},
   "outputs": [],
   "source": []
  },
  {
   "cell_type": "code",
   "execution_count": null,
   "id": "506af283",
   "metadata": {},
   "outputs": [],
   "source": []
  },
  {
   "cell_type": "code",
   "execution_count": null,
   "id": "8246e837",
   "metadata": {},
   "outputs": [],
   "source": []
  },
  {
   "cell_type": "code",
   "execution_count": null,
   "id": "42a1b514",
   "metadata": {},
   "outputs": [],
   "source": []
  },
  {
   "cell_type": "code",
   "execution_count": null,
   "id": "5b0c3a7a",
   "metadata": {},
   "outputs": [],
   "source": []
  },
  {
   "cell_type": "code",
   "execution_count": null,
   "id": "25db4115",
   "metadata": {},
   "outputs": [],
   "source": []
  },
  {
   "cell_type": "code",
   "execution_count": null,
   "id": "2f04abb6",
   "metadata": {},
   "outputs": [],
   "source": []
  },
  {
   "cell_type": "code",
   "execution_count": null,
   "id": "d53a799f",
   "metadata": {},
   "outputs": [],
   "source": []
  },
  {
   "cell_type": "code",
   "execution_count": null,
   "id": "25447be2",
   "metadata": {},
   "outputs": [],
   "source": []
  },
  {
   "cell_type": "code",
   "execution_count": null,
   "id": "73484cb4",
   "metadata": {},
   "outputs": [],
   "source": []
  },
  {
   "cell_type": "code",
   "execution_count": null,
   "id": "9d00106b",
   "metadata": {},
   "outputs": [],
   "source": []
  },
  {
   "cell_type": "code",
   "execution_count": null,
   "id": "1a210e48",
   "metadata": {},
   "outputs": [],
   "source": []
  },
  {
   "cell_type": "code",
   "execution_count": null,
   "id": "33722bb4",
   "metadata": {},
   "outputs": [],
   "source": []
  },
  {
   "cell_type": "code",
   "execution_count": null,
   "id": "ebe563eb",
   "metadata": {},
   "outputs": [],
   "source": []
  },
  {
   "cell_type": "code",
   "execution_count": null,
   "id": "099e54e0",
   "metadata": {},
   "outputs": [],
   "source": []
  },
  {
   "cell_type": "code",
   "execution_count": null,
   "id": "079f1532",
   "metadata": {},
   "outputs": [],
   "source": []
  },
  {
   "cell_type": "code",
   "execution_count": null,
   "id": "ab5a4bbe",
   "metadata": {},
   "outputs": [],
   "source": []
  },
  {
   "cell_type": "code",
   "execution_count": null,
   "id": "ae951841",
   "metadata": {},
   "outputs": [],
   "source": []
  },
  {
   "cell_type": "code",
   "execution_count": null,
   "id": "9051431f",
   "metadata": {},
   "outputs": [],
   "source": []
  },
  {
   "cell_type": "code",
   "execution_count": null,
   "id": "9cff2c88",
   "metadata": {},
   "outputs": [],
   "source": []
  },
  {
   "cell_type": "code",
   "execution_count": null,
   "id": "aa301b78",
   "metadata": {},
   "outputs": [],
   "source": []
  },
  {
   "cell_type": "code",
   "execution_count": null,
   "id": "f9350c10",
   "metadata": {},
   "outputs": [],
   "source": []
  },
  {
   "cell_type": "code",
   "execution_count": null,
   "id": "50f52925",
   "metadata": {},
   "outputs": [],
   "source": []
  },
  {
   "cell_type": "code",
   "execution_count": null,
   "id": "b09ba582",
   "metadata": {},
   "outputs": [],
   "source": []
  },
  {
   "cell_type": "code",
   "execution_count": null,
   "id": "b0b4edad",
   "metadata": {},
   "outputs": [],
   "source": []
  },
  {
   "cell_type": "code",
   "execution_count": null,
   "id": "70f8e010",
   "metadata": {},
   "outputs": [],
   "source": []
  },
  {
   "cell_type": "code",
   "execution_count": null,
   "id": "c7de7cf3",
   "metadata": {},
   "outputs": [],
   "source": []
  },
  {
   "cell_type": "code",
   "execution_count": null,
   "id": "791b22de",
   "metadata": {},
   "outputs": [],
   "source": []
  },
  {
   "cell_type": "code",
   "execution_count": null,
   "id": "040b4f1b",
   "metadata": {},
   "outputs": [],
   "source": []
  },
  {
   "cell_type": "code",
   "execution_count": null,
   "id": "b88d7cf2",
   "metadata": {},
   "outputs": [],
   "source": []
  },
  {
   "cell_type": "code",
   "execution_count": null,
   "id": "19da865e",
   "metadata": {},
   "outputs": [],
   "source": []
  },
  {
   "cell_type": "code",
   "execution_count": null,
   "id": "908c2608",
   "metadata": {},
   "outputs": [],
   "source": []
  }
 ],
 "metadata": {
  "kernelspec": {
   "display_name": "Python 3",
   "language": "python",
   "name": "python3"
  },
  "language_info": {
   "codemirror_mode": {
    "name": "ipython",
    "version": 3
   },
   "file_extension": ".py",
   "mimetype": "text/x-python",
   "name": "python",
   "nbconvert_exporter": "python",
   "pygments_lexer": "ipython3",
   "version": "3.8.8"
  }
 },
 "nbformat": 4,
 "nbformat_minor": 5
}
